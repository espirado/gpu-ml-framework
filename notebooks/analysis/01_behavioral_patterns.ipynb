{
  "cells": [
    {
      "cell_type": "markdown",
      "metadata": {},
      "source": [
        "# Behavioral Pattern Detection on Cluster Traces\n",
        "\n",
        "Goal: detect resource hoarding and queue spiraling patterns using windowed features from Alibaba traces.\n"
      ]
    }
  ],
  "metadata": {
    "language_info": {
      "name": "python"
    }
  },
  "nbformat": 4,
  "nbformat_minor": 2
}
